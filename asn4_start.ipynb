{
 "cells": [
  {
   "cell_type": "code",
   "execution_count": 30,
   "metadata": {},
   "outputs": [],
   "source": [
    "import numpy as np\n",
    "import pandas as pd\n",
    "import seaborn as sns\n",
    "import matplotlib.pyplot as plt\n",
    "import seaborn as sns\n",
    "import thinkstats2\n",
    "import thinkplot\n",
    "from sklearn.linear_model import LogisticRegression\n",
    "from sklearn.metrics import accuracy_score, f1_score, mean_squared_error, confusion_matrix, precision_score, recall_score\n",
    "from sklearn.model_selection import train_test_split\n",
    "from sklearn.preprocessing import binarize\n",
    "from sklearn.preprocessing import PolynomialFeatures\n",
    "from sklearn.pipeline import make_pipeline\n",
    "from imblearn.under_sampling import RandomUnderSampler\n",
    "from imblearn.over_sampling import RandomOverSampler\n",
    "from imblearn.under_sampling import TomekLinks\n",
    "from imblearn.over_sampling import SMOTE\n",
    "from imblearn.over_sampling import SVMSMOTE\n",
    "from imblearn.over_sampling import ADASYN\n",
    "from collections import Counter\n",
    "from sklearn.tree import DecisionTreeClassifier\n",
    "from sklearn.ensemble import RandomForestClassifier, AdaBoostClassifier\n",
    "from sklearn.preprocessing import MinMaxScaler\n",
    "from sklearn.preprocessing import StandardScaler\n",
    "from sklearn.naive_bayes import GaussianNB, MultinomialNB\n",
    "import math\n",
    "import scipy.stats as ss\n",
    "#forkity fork"
   ]
  },
  {
   "cell_type": "markdown",
   "metadata": {},
   "source": [
    "# Assignment 4 - Classification\n",
    "\n",
    "For this assignment, you'll need to perform a classification on a dataset, as well as do some prep work on the data. \n",
    "\n",
    "The exact steps of what you need to do are flexible and up to you to some degree, however you should consider some of the important things we've mentioned recently, such as:\n",
    "<ul>\n",
    "<li> Is the target balanced?\n",
    "<li> Are there missing or erroneous values?\n",
    "<li> Are there categorical or numerical features?\n",
    "<li> Is there colinearity?\n",
    "<li> Are there outliers?\n",
    "<li> Should we normalize? \n",
    "<li> Do the distributions of the features give any indication that some may need work? \n",
    "</ul>\n",
    "\n",
    "Basically, the data is in the original, potentially dirty, format, and you need to find what should be cleaned, and do the cleaning. There is not one \"right\" answer to what has to be done, and you'll probably need to do it with at least something of an iterative process - find an issue, correct it, check the data, repeat.\n",
    "\n",
    "<b>The target that we are predicting is the loan_status. </b>\n",
    "\n",
    "## Grading\n",
    "\n",
    "The grades will be broken down as follows:\n",
    "<ul>\n",
    "<li> <b>30%</b> - a working predictive model with a reasonable level of accuracy. \n",
    "    <ul>\n",
    "    <li> For the accuracy part, it will not be explicitly graded, but compared to all the others. If you're in the same general range, that's good - if yours is drastically less accurate (or, I guess more accurate), then I'll adjust. There won't be a comparison of \"this person is 72.3% and this person is only 71.8% accurate, they fail.\"\n",
    "    <li> This data is larger than most of the small sample sets, so random variations due to train-test splits shouldn't be too bad. (If you're a keener you could loop)\n",
    "    <li> I will use the F1 score as the accuracy metric. \n",
    "    </ul>\n",
    "<li> <b>40%</b> - a clear and readable description of what steps you took to prepare the data, and a brief not on the rationale behind it. Did you do a log transformation to a skewed feature, did you remove outliers, did you remove a feature that has a lot of missing values? Please put this somewhere obvious and readable, consider the goal of the assignment to explain your process to me. \n",
    "    <ul>\n",
    "    <li> E.g. \"The target data was imbalanced, so I tried several resampling methods and chose the one with the highest accuracy of the resulting model\", \"the feature X had the same value for 95% of records, so I dropped it\". \n",
    "    <li> In this, please also state if you see a group that appears to be a good credit risk, and a group that is a bad credit risk, and indicate the evidence showing that. Please do this other than the most simplistic way - more money = better credit. If there are no such groups, state why you think this. This will likely be about 3 - 5 statements or points, you should provide evidence from the data, but it does not need to be an essay. (You may want to consider this question after you're pretty much done with the data prep and modelling.)\n",
    "    </ul>\n",
    "<li> <b>30%</b> - allowing your model to be \"deployed\". At the bottom of this file there is a small block of code to load in some test data (that I have), and calculate your accuracy. Your contribution to this part is to have a model that is ready to make predictions. Some specifics to consider:\n",
    "    <ul>\n",
    "    <li> The test data will be in exactly the same format as the dataset you're given. So any steps that you took to prepare your data for modelling will need to be mirroed here, so the new  data can be predicted. The easiest way to do this is to use a pipeline, but it is up to you. Remember the model only accepts data that is in a certain format - the one that you had the data in when it was trained, so when making predictions you need to make sure that is true. \n",
    "    <li> Since I'm providing test data, and your task is to just create a model, think about how that might impact your train-test splitting, both as you're developing and for the final product. \n",
    "    <li> Once the model is trained it should predict any data that is in the right format, so I should be able to provide any proper dataset, click run on that testing cell, and get predictions. I will not be doing anything that will purposefully make this harder or trickier, like including data that has errors or is in the wrong format, I just split the entire set of data, reserved part of it to test accuracy, and gave the rest to you. Things that you've changed (e.g. dropping a column, one-hot encoding) do need to be replicated at some point before the model can accept the new data to predict. In general we <b>do</b> want to check in our processing that our input is valid, this is kind of a junior introduction to that. \n",
    "    </ul>\n",
    "</ul"
   ]
  },
  {
   "cell_type": "markdown",
   "metadata": {},
   "source": [
    "# What I did\n",
    " 1. `Unnamed: 0` seems like it was a index and doesn't have any real point, removed completely\n",
    " 1. `cb_person_cred_hist_length` was basically identical between `loan_status` 1 & 0 can be removed for faster machine learning\n",
    " 1. remove outliers in `person_income` anyone above 200K skewed the numbers\n",
    " 1. remove outliers in `loan_percent_income` keep anything below .65\n",
    " 1. remove that anyone that has `person_emp_length` above 50\n",
    " 1. drop rows that have nulls in `loan_int_rate`\n",
    " 1. drop the octagenarians and greater in `person_age` they are outliers in our data\n",
    " 1. drop any potential people with a `person_age` under 18 that would probably be a mistake\n",
    " 1. do a 1hot for the catergorical features\n",
    " 1. taget was imbalanced, under-sampled using `TomekLinks`"
   ]
  },
  {
   "cell_type": "markdown",
   "metadata": {},
   "source": [
    "# Good Credit Risk\n",
    "1. people who own their home (outright I assume) are a good credit risk \n",
    "1. they make up 7% of the sample overall but make up 9% of the people with a loan_status of 0\n",
    "\n",
    "# Bad credit Risk\n",
    "1. People getting aloan for debt consolidation \n",
    "1. make up 15% of the sample overall but make up 20% of the people with a loan_status of 1"
   ]
  },
  {
   "cell_type": "markdown",
   "metadata": {},
   "source": [
    "## Load Credit Data"
   ]
  },
  {
   "cell_type": "code",
   "execution_count": 109,
   "metadata": {},
   "outputs": [],
   "source": [
    "def PrepareData(dataFrame:pd.DataFrame):\n",
    "    if type(dataFrame) != pd.DataFrame:\n",
    "        raise RuntimeError(\"that is not a data frame\")\n",
    "    #drop columns\n",
    "    dataFrame.drop(columns = {\"Unnamed: 0\", \"cb_person_cred_hist_length\"}, inplace = True)\n",
    "    dataFrame = dataFrame[dataFrame[\"person_income\"] < 300000]\n",
    "    dataFrame = dataFrame[dataFrame[\"loan_percent_income\"] < 0.65]\n",
    "    dataFrame = dataFrame[dataFrame[\"person_emp_length\"] < 50]\n",
    "    dataFrame = dataFrame[~dataFrame[\"loan_int_rate\"].isnull()]\n",
    "    dataFrame = dataFrame[dataFrame[\"person_age\"] > 18]\n",
    "    dataFrame = dataFrame[dataFrame[\"person_age\"] < 80]\n",
    "    dataFrame[\"person_income\"] = np.log(dataFrame[\"person_income\"])\n",
    "    dataFrame = dataFrame[dataFrame[\"person_home_ownership\"] != \"OTHER\"]\n",
    "    dataFrame = pd.get_dummies(dataFrame, drop_first=True)\n",
    "    return pd.DataFrame(dataFrame)"
   ]
  },
  {
   "cell_type": "code",
   "execution_count": 110,
   "metadata": {},
   "outputs": [],
   "source": [
    "df = pd.read_csv(\"train.csv\")\n",
    "df = PrepareData(df)"
   ]
  },
  {
   "cell_type": "code",
   "execution_count": 113,
   "metadata": {},
   "outputs": [
    {
     "name": "stdout",
     "output_type": "stream",
     "text": [
      "F1: 0.8200956937799043\n",
      "Acc: 0.9337444933920704\n",
      "Recall: 0.726271186440678\n",
      "Precision: 0.9417582417582417\n"
     ]
    },
    {
     "data": {
      "text/plain": [
       "<AxesSubplot:>"
      ]
     },
     "execution_count": 113,
     "metadata": {},
     "output_type": "execute_result"
    },
    {
     "data": {
      "image/png": "[encoded data removed]",
      "text/plain": [
       "<Figure size 576x576 with 2 Axes>"
      ]
     },
     "metadata": {},
     "output_type": "display_data"
    }
   ],
   "source": [
    "##Train Test split version for testing accuracy\n",
    "\n",
    "# # sampler = ADASYN(n_jobs=-1) #F1:.728, .890, .700, .759 (standard scale)\n",
    "# # sampler = RandomUnderSampler() #F1:.691, .846, .794, .612 (standard scale)\n",
    "# # sampler = RandomOverSampler() #F1:.701, .853, .793, .628 (standard scale)\n",
    "# sampler = TomekLinks(n_jobs=-1) #F1:.832, .934, .744, .944 (standard scale)\n",
    "# # sampler = SMOTE(n_jobs=-1) #F1:.729, .884, .713, .746 (standard scale)\n",
    "# # sampler = SVMSMOTE(n_jobs=-1) #F1:.728, .877, .751, .706 (standard scale)\n",
    "\n",
    "# scaler = StandardScaler()\n",
    "\n",
    "# ye = np.array(df[\"loan_status\"]).reshape(-1,1)\n",
    "# xe = df.drop(columns={\"loan_status\"})\n",
    "\n",
    "\n",
    "# X_train, X_test, y_train, y_test = train_test_split(xe, ye)\n",
    "# X_trainSamp, y_trainSamp = sampler.fit_resample(X_train, y_train)\n",
    "\n",
    "# X_train_norm = scaler.fit_transform(X_trainSamp)\n",
    "# X_test_norm = scaler.transform(X_test)\n",
    "\n",
    "# poly = PolynomialFeatures(degree=3)\n",
    "# model = make_pipeline(poly, RandomForestClassifier(n_jobs=-1))\n",
    "# model.fit(X_train_norm, y_trainSamp)\n",
    "# preds = model.predict(X_test_norm)\n",
    "# labels = binarize(np.array(preds).reshape(-1,1), threshold=.5)\n",
    "\n",
    "# print(\"F1:\",f1_score(y_test, labels))\n",
    "# print(\"Acc:\",accuracy_score(y_test, labels))\n",
    "# print(\"Recall:\",recall_score(y_test, labels))\n",
    "# print(\"Precision:\",precision_score(y_test, labels))\n",
    "# plt.rcParams[\"figure.figsize\"] = (8,8)\n",
    "# sns.heatmap(confusion_matrix(y_test, labels), annot=True)"
   ]
  },
  {
   "cell_type": "code",
   "execution_count": 114,
   "metadata": {},
   "outputs": [],
   "source": [
    "# sampler = ADASYN(n_jobs=-1) #F1:.728, .890, .700, .759 (standard scale)\n",
    "# sampler = RandomUnderSampler() #F1:.691, .846, .794, .612 (standard scale)\n",
    "# sampler = RandomOverSampler() #F1:.701, .853, .793, .628 (standard scale)\n",
    "sampler = TomekLinks(n_jobs=-1) #F1:.832, .934, .744, .944 (standard scale)\n",
    "# sampler = SMOTE(n_jobs=-1) #F1:.729, .884, .713, .746 (standard scale)\n",
    "# sampler = SVMSMOTE(n_jobs=-1) #F1:.728, .877, .751, .706 (standard scale)\n",
    "\n",
    "scaler = StandardScaler()\n",
    "\n",
    "ye = np.array(df[\"loan_status\"]).reshape(-1,1)\n",
    "xe = df.drop(columns={\"loan_status\"})\n",
    "\n",
    "\n",
    "X_trainSamp, y_trainSamp = sampler.fit_resample(xe, ye)\n",
    "\n",
    "poly = PolynomialFeatures(degree=3)\n",
    "model = make_pipeline(StandardScaler(), poly, RandomForestClassifier(n_jobs=-1))\n",
    "model.fit(X_trainSamp, y_trainSamp)\n",
    "preds = model.predict(X_trainSamp)\n",
    "labels = binarize(np.array(preds).reshape(-1,1), threshold=.5)\n",
    "\n",
    "# print(\"F1:\",f1_score(y_test, labels))\n",
    "# print(\"Acc:\",accuracy_score(y_test, labels))\n",
    "# print(\"Recall:\",recall_score(y_test, labels))\n",
    "# print(\"Precision:\",precision_score(y_test, labels))\n",
    "# plt.rcParams[\"figure.figsize\"] = (8,8)\n",
    "# sns.heatmap(confusion_matrix(y_test, labels), annot=True)"
   ]
  },
  {
   "cell_type": "markdown",
   "metadata": {},
   "source": [
    "### Accuracy Test\n",
    "\n",
    "Replace the green part with whatever you need to transform the fresh data into the format needed for your model to predict. \n",
    "\n",
    "<b>Note:</b> you could test and make sure that things are working OK here by taking part of your dataset, saving it in a separate CSV, and running it through here as a piece of test data. The accuracy results would be useless, but you'd confirm that the model works properly. "
   ]
  },
  {
   "cell_type": "code",
   "execution_count": 3,
   "metadata": {},
   "outputs": [],
   "source": [
    "d_test = pd.read_csv(\"test.csv\")\n",
    "d_test = PrepareData(d_test)\n",
    "\n",
    "ya = np.array(d_test[\"loan_status\"]).reshape(-1,1)\n",
    "xa = d_test.drop(columns={\"loan_status\"})\n",
    "\n",
    "xtest, ytest = sampler.fit_resample(xa, ya)\n",
    "\n",
    "finalPred = model.predict(xtest)\n",
    "prediction_labels = binarize(np.array(finalPred).reshape(-1,1), threshold=.5)\n",
    "######################\n",
    "# Insert whatever you need to do to prep the data here. \n",
    "# It might be nothing if you have a big pipeline. \n",
    "# Ensure that at the end your data is in two arrays - xtest and ytest\n",
    "# Ensure the name of your final model is \"model\"\n",
    "# Each should contain the ENTIRE x or y dataset in the test data. \n",
    "#\n",
    "# This part should be reusable - any dataset in this format should just run\n",
    "# and generate predictions and accuracy stats. \n",
    "# Please DO NOT do any train-test splitting here. \n",
    "#######################\n",
    "\n",
    "# This should work once you're done, as is. \n",
    "# uncomment the stuff below when ready to run.\n",
    "print(\"F1:\",f1_score(ytest, prediction_labels))\n",
    "conf_matrix = confusion_matrix(ytest, prediction_labels)\n",
    "sns.heatmap(conf_matrix, annot=True)"
   ]
  }
 ],
 "metadata": {
  "kernelspec": {
   "display_name": "Python 3.9.12 ('base')",
   "language": "python",
   "name": "python3"
  },
  "language_info": {
   "codemirror_mode": {
    "name": "ipython",
    "version": 3
   },
   "file_extension": ".py",
   "mimetype": "text/x-python",
   "name": "python",
   "nbconvert_exporter": "python",
   "pygments_lexer": "ipython3",
   "version": "3.9.12"
  },
  "orig_nbformat": 4,
  "vscode": {
   "interpreter": {
    "hash": "a8db638d3b940bd10adfd3e31b9d30944957c89679bddca81ff9d9cb86f7e1de"
   }
  }
 },
 "nbformat": 4,
 "nbformat_minor": 2
}
